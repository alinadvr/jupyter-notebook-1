{
 "cells": [
  {
   "cell_type": "code",
   "execution_count": 21,
   "id": "19b25ddd-980d-4fa6-a6af-c522d98df6db",
   "metadata": {},
   "outputs": [],
   "source": [
    "def task_2(list):\n",
    "    print(list)\n",
    "    list.sort()\n",
    "    list_len = len(list)\n",
    "    return f\"{(list[int(list_len / 2 - 1)], list[int(list_len / 2)]) if list_len % 2 == 0 else list[int(list_len / 2)]} - це середина відсортованого списку\""
   ]
  },
  {
   "cell_type": "code",
   "execution_count": 22,
   "id": "7dbcc1bf-8714-4a62-bc68-dd47f39da1a9",
   "metadata": {},
   "outputs": [
    {
     "name": "stdout",
     "output_type": "stream",
     "text": [
      "[2, 4, 5, 1, 7]\n"
     ]
    },
    {
     "data": {
      "text/plain": [
       "'4 - це середина відсортованого списку'"
      ]
     },
     "execution_count": 22,
     "metadata": {},
     "output_type": "execute_result"
    }
   ],
   "source": [
    "task_2([2, 4, 5, 1, 7])"
   ]
  },
  {
   "cell_type": "code",
   "execution_count": 23,
   "id": "cd96debd-997b-46b3-9c4d-573efd9f1b05",
   "metadata": {},
   "outputs": [
    {
     "name": "stdout",
     "output_type": "stream",
     "text": [
      "[7, 3, 1, 7, 4, 2, 8, 2]\n"
     ]
    },
    {
     "data": {
      "text/plain": [
       "'(3, 4) - це середина відсортованого списку'"
      ]
     },
     "execution_count": 23,
     "metadata": {},
     "output_type": "execute_result"
    }
   ],
   "source": [
    "task_2([7, 3, 1, 7, 4, 2, 8, 2])"
   ]
  },
  {
   "cell_type": "code",
   "execution_count": null,
   "id": "06bc5af5-2549-467d-bae0-ec0b466ee958",
   "metadata": {},
   "outputs": [],
   "source": []
  }
 ],
 "metadata": {
  "kernelspec": {
   "display_name": "Python 3 (ipykernel)",
   "language": "python",
   "name": "python3"
  },
  "language_info": {
   "codemirror_mode": {
    "name": "ipython",
    "version": 3
   },
   "file_extension": ".py",
   "mimetype": "text/x-python",
   "name": "python",
   "nbconvert_exporter": "python",
   "pygments_lexer": "ipython3",
   "version": "3.11.7"
  }
 },
 "nbformat": 4,
 "nbformat_minor": 5
}
